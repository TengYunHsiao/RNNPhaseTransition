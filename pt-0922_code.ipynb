{
 "cells": [
  {
   "cell_type": "code",
   "execution_count": null,
   "metadata": {
    "_cell_guid": "7acb1a4e-2f20-4343-97ae-be01c92ec388",
    "_uuid": "a97f8501-b51b-4e80-b5b3-dab729f35446",
    "collapsed": false,
    "execution": {
     "iopub.execute_input": "2025-09-22T10:27:10.250486Z",
     "iopub.status.busy": "2025-09-22T10:27:10.250022Z",
     "iopub.status.idle": "2025-09-22T10:27:25.657437Z",
     "shell.execute_reply": "2025-09-22T10:27:25.656666Z",
     "shell.execute_reply.started": "2025-09-22T10:27:10.250460Z"
    },
    "jupyter": {
     "outputs_hidden": false
    },
    "trusted": true
   },
   "outputs": [
    {
     "name": "stderr",
     "output_type": "stream",
     "text": [
      "100%|██████████| 9.91M/9.91M [00:00<00:00, 36.9MB/s]\n",
      "100%|██████████| 28.9k/28.9k [00:00<00:00, 1.04MB/s]\n",
      "100%|██████████| 1.65M/1.65M [00:00<00:00, 9.65MB/s]\n",
      "100%|██████████| 4.54k/4.54k [00:00<00:00, 6.87MB/s]\n"
     ]
    },
    {
     "name": "stdout",
     "output_type": "stream",
     "text": [
      "train samples = 11702, test samples = 1916\n",
      "device: cuda:0\n"
     ]
    }
   ],
   "source": [
    "\"\"\"\n",
    "Binary-MNIST (6 vs 8) — Width scan without training\n",
    "===================================================\n",
    "* No network training (only random initialization, averaged over multiple seeds)\n",
    "* Metrics:\n",
    "    m      = ⟨ sign(logit1 − logit0) ⟩            # (8 → +1)\n",
    "    |m|    = ensemble average of |m|\n",
    "\"\"\"\n",
    "import math, csv, numpy as np, torch, matplotlib.pyplot as plt\n",
    "import torch.nn as nn\n",
    "from torchvision import datasets, transforms\n",
    "from torch.utils.data import DataLoader, Subset\n",
    "from typing import Optional\n",
    "from matplotlib.backends.backend_pdf import PdfPages\n",
    "\n",
    "import torch\n",
    "torch.set_default_dtype(torch.float64)\n",
    "\n",
    "# ─────────────────────────── Device ────────────────────────────\n",
    "DEV = torch.device(\"cuda\" if torch.cuda.is_available() else \"cpu\")\n",
    "\n",
    "# ──────────────────────── Data: MNIST 6 vs 8 ───────────────────\n",
    "def load_mnist_6v8(\n",
    "    root: str = \"./data\",\n",
    "    balance: bool = True,\n",
    "    batch_size: int = 512,\n",
    "    seed: int = 42,\n",
    "    device: Optional[torch.device] = None,\n",
    "):\n",
    "    \"\"\"Return the DataLoader for 6 vs 8 and the complete test tensors (for full-batch inference).\"\"\"\n",
    "    device = device or torch.device(\"cuda\" if torch.cuda.is_available() else \"cpu\")\n",
    "    tfm = transforms.ToTensor()\n",
    "\n",
    "    train = datasets.MNIST(root, train=True,  download=True, transform=tfm)\n",
    "    test  = datasets.MNIST(root, train=False, download=True, transform=tfm)\n",
    "\n",
    "    def _keep_6_8(ds):\n",
    "        mask = (ds.targets == 6) | (ds.targets == 8)\n",
    "        ds.data, ds.targets = ds.data[mask], ds.targets[mask]\n",
    "        ds.targets = (ds.targets == 8).long()  # 8->1, 6->0\n",
    "        return ds\n",
    "\n",
    "    train, test = map(_keep_6_8, (train, test))\n",
    "\n",
    "    if balance:\n",
    "        rng = np.random.default_rng(seed)\n",
    "        def _balance(ds):\n",
    "            idx0 = torch.where(ds.targets == 0)[0].numpy()\n",
    "            idx1 = torch.where(ds.targets == 1)[0].numpy()\n",
    "            n = min(len(idx0), len(idx1))\n",
    "            keep = np.concatenate([rng.choice(idx0, n, replace=False),\n",
    "                                   rng.choice(idx1, n, replace=False)])\n",
    "            rng.shuffle(keep)\n",
    "            return Subset(ds, torch.from_numpy(keep))\n",
    "        train, test = map(_balance, (train, test))\n",
    "\n",
    "    train_ld = DataLoader(train, batch_size=batch_size, shuffle=False)\n",
    "    test_x, test_y = next(iter(DataLoader(test, batch_size=len(test))))\n",
    "    return train_ld, test_x.to(device), test_y.to(device)\n",
    "\n",
    "train_ld, TEST_X, TEST_Y = load_mnist_6v8(device=DEV)\n",
    "print(f\"train samples = {len(train_ld.dataset)}, test samples = {len(TEST_Y)}\")\n",
    "print(\"device:\", TEST_X.device)\n",
    "\n"
   ]
  },
  {
   "cell_type": "code",
   "execution_count": null,
   "metadata": {
    "execution": {
     "iopub.execute_input": "2025-09-22T10:43:57.551946Z",
     "iopub.status.busy": "2025-09-22T10:43:57.551669Z",
     "iopub.status.idle": "2025-09-22T10:43:57.559033Z",
     "shell.execute_reply": "2025-09-22T10:43:57.558452Z",
     "shell.execute_reply.started": "2025-09-22T10:43:57.551928Z"
    },
    "trusted": true
   },
   "outputs": [],
   "source": [
    "# ─────────────────────────── Model ─────────────────────────────\n",
    "class FC(nn.Module):\n",
    "    \"\"\"Fully connected MLP: ReLU nonlinearity; input 784; fixed hidden layer width; output 2 (6 vs 8)\"\"\"\n",
    "    def __init__(self, depth: int, width: int, sig_w: float, sig_b2: float = 0.05):\n",
    "        super().__init__(); layers = []\n",
    "        scale_in = sig_w / math.sqrt(784)\n",
    "        inp = nn.Linear(784, width)\n",
    "        nn.init.normal_(inp.weight, 0, scale_in)\n",
    "        nn.init.normal_(inp.bias,   0, math.sqrt(sig_b2))\n",
    "        layers += [inp, nn.ReLU()]   # ReLU\n",
    "\n",
    "        scale = sig_w / math.sqrt(width)\n",
    "        for _ in range(depth - 1):\n",
    "            h = nn.Linear(width, width)\n",
    "            nn.init.normal_(h.weight, 0, scale)\n",
    "            nn.init.normal_(h.bias,   0, math.sqrt(sig_b2))\n",
    "            layers += [h, nn.ReLU()]   # ReLU\n",
    "\n",
    "        out = nn.Linear(width, 2)\n",
    "        nn.init.normal_(out.weight, 0, scale)\n",
    "        # nn.init.orthogonal_(out.weight, gain=scale)\n",
    "        nn.init.normal_(out.bias,   0, math.sqrt(sig_b2))\n",
    "        layers.append(out)\n",
    "        self.net = nn.Sequential(*layers)\n",
    "\n",
    "    def forward(self, x):\n",
    "        x = x.view(x.size(0), -1)\n",
    "        return self.net(x)\n"
   ]
  },
  {
   "cell_type": "code",
   "execution_count": null,
   "metadata": {
    "execution": {
     "iopub.execute_input": "2025-09-22T10:48:01.088231Z",
     "iopub.status.busy": "2025-09-22T10:48:01.087527Z",
     "iopub.status.idle": "2025-09-22T10:48:46.551698Z",
     "shell.execute_reply": "2025-09-22T10:48:46.551015Z",
     "shell.execute_reply.started": "2025-09-22T10:48:01.088209Z"
    },
    "trusted": true
   },
   "outputs": [
    {
     "name": "stdout",
     "output_type": "stream",
     "text": [
      "[Depth=1000] scanning σ_w ...\n",
      "Done computing Binder cumulant for all (Depth, σ_w).\n",
      "Saved CSV → scan_depth_sigma_binder_adaptive.csv\n"
     ]
    }
   ],
   "source": [
    "@torch.no_grad()\n",
    "def measure_m(net: nn.Module):\n",
    "    \"\"\"回傳 (m, |m|, (logits0_mean, logits0_std, logits1_mean, logits1_std))\n",
    "    m 為平均 spin：sign(logit1 − logit0)\n",
    "    \"\"\"\n",
    "    logits = net(TEST_X)\n",
    "    spin   = torch.sign(logits[:, 1] - logits[:, 0])  # +1 for digit-8\n",
    "    # spin = torch.tanh((logits[:, 1] - logits[:, 0]))\n",
    "    m      = spin.mean().item()\n",
    "\n",
    "    # NEW: compute logits[:,0] / logits[:,1] mean / std( numpy.std unbiased=False)\n",
    "    logits0 = logits[:, 0].detach()\n",
    "    logits1 = logits[:, 1].detach()\n",
    "    l0_mean = logits0.mean().item()\n",
    "    l0_std  = logits0.std(unbiased=False).item()  \n",
    "    l1_mean = logits1.mean().item()\n",
    "    l1_std  = logits1.std(unbiased=False).item()\n",
    "\n",
    "    return m, abs(m), (l0_mean, l0_std, l1_mean, l1_std)\n",
    "\n",
    "\n",
    "# ───────────────────────── Grid / Config(custom sigma range by depth) ───────────────────────\n",
    "WIDTH  = 100\n",
    "SEEDS  = 5\n",
    "EPS    = 1e-12\n",
    "\n",
    "SIGMA_SWEEP_MAP = {\n",
    "    1000:  (1.0, 2.0),\n",
    "}\n",
    "\n",
    "DEPTHS = sorted(SIGMA_SWEEP_MAP.keys())\n",
    "BASE_SIGMAS = np.arange(1.0, 2.0, 0.1)\n",
    "\n",
    "perL_sigmas  = {D: [] for D in DEPTHS}\n",
    "perL_Mabs    = {D: [] for D in DEPTHS}\n",
    "# perL_Binder  = {D: [] for D in DEPTHS}\n",
    "\n",
    "# CSV\n",
    "FIELDNAMES = [\n",
    "    \"seed\", \"width\", \"depth\", \"sigma_w\", \"sigma_w2\",\n",
    "    \"m\", \"m_abs\",\n",
    "    \"logits0_mean\", \"logits0_std\", \"logits1_mean\", \"logits1_std\" \n",
    "]\n",
    "csv_rows = []\n",
    "# ─────────────────────── main loop：train( WIDTH， DEPTH×σ_w) ───────────────────────\n",
    "for i_D, D in enumerate(DEPTHS):\n",
    "    print(f\"[Depth={D}] scanning σ_w ...\")\n",
    "\n",
    "    if D in SIGMA_SWEEP_MAP:\n",
    "        s_lo, s_hi = SIGMA_SWEEP_MAP[D]\n",
    "        local_sigmas = list(np.linspace(s_lo, s_hi, 10))  # inclusive of endpoints， 10\n",
    "    else:\n",
    "        local_sigmas = list(BASE_SIGMAS)\n",
    "\n",
    "    local_Us = []\n",
    "\n",
    "    def run_one_sigma(sigma):\n",
    "        m_samples = []\n",
    "        for seed in range(SEEDS):\n",
    "            torch.manual_seed(seed)\n",
    "            net = FC(D, WIDTH, sigma).to(DEV).eval()\n",
    "\n",
    "            m, m_abs, (l0_mean, l0_std, l1_mean, l1_std) = measure_m(net)\n",
    "\n",
    "            csv_rows.append({\n",
    "                \"seed\":     seed,\n",
    "                \"width\":    WIDTH,\n",
    "                \"depth\":    D,\n",
    "                \"sigma_w\":  f\"{sigma:.5f}\",\n",
    "                \"sigma_w2\": f\"{sigma**2:.5f}\",\n",
    "                \"m\":        f\"{m:.5f}\",\n",
    "                \"m_abs\":    f\"{m_abs:.5f}\",\n",
    "                \"logits0_mean\": f\"{l0_mean:.6f}\",\n",
    "                \"logits0_std\":  f\"{l0_std:.6f}\",\n",
    "                \"logits1_mean\": f\"{l1_mean:.6f}\",\n",
    "                \"logits1_std\":  f\"{l1_std:.6f}\",\n",
    "            })\n",
    "            m_samples.append(m)\n",
    "    \n",
    "        Mabs_mean = float(np.mean(np.abs(m_samples)))\n",
    "        return Mabs_mean\n",
    "\n",
    "    for sigma in local_sigmas:\n",
    "        Mabs_mean = run_one_sigma(float(sigma))\n",
    "        perL_sigmas[D].append(float(sigma))\n",
    "        perL_Mabs[D].append(Mabs_mean)\n",
    "\n",
    "# === output CSV(long-form table，each seed row) ===\n",
    "out_csv = \"scan_depth_sigma_binder_adaptive.csv\"\n",
    "with open(out_csv, \"w\", newline=\"\", encoding=\"utf-8\") as f:\n",
    "    writer = csv.DictWriter(f, fieldnames=FIELDNAMES)\n",
    "    writer.writeheader()\n",
    "    writer.writerows(csv_rows)\n",
    "print(f\"Saved CSV → {out_csv}\")\n"
   ]
  },
  {
   "cell_type": "code",
   "execution_count": null,
   "metadata": {
    "execution": {
     "iopub.execute_input": "2025-09-22T10:48:46.553183Z",
     "iopub.status.busy": "2025-09-22T10:48:46.552896Z",
     "iopub.status.idle": "2025-09-22T10:48:46.883748Z",
     "shell.execute_reply": "2025-09-22T10:48:46.883040Z",
     "shell.execute_reply.started": "2025-09-22T10:48:46.553155Z"
    },
    "trusted": true
   },
   "outputs": [
    {
     "data": {
      "image/png": "[encoded data removed]",
      "text/plain": [
       "<Figure size 750x400 with 1 Axes>"
      ]
     },
     "metadata": {},
     "output_type": "display_data"
    }
   ],
   "source": [
    "# === ：<|m|>(each L σ grid) ===\n",
    "fig, ax = plt.subplots(figsize=(7.5, 4.0))\n",
    "for D in DEPTHS:\n",
    "    ax.plot(perL_sigmas[D], perL_Mabs[D], marker=\"o\", label=f\"Depth={D}\")\n",
    "ax.set_xlabel(r\"$\\sigma_w$\")\n",
    "ax.set_ylabel(r\"$\\langle |m| \\rangle$\")\n",
    "ax.set_title(f\"Fixed width = {WIDTH}\")\n",
    "ax.grid(True, alpha=0.3)\n",
    "ax.legend(title=\"Depth\", ncol=2)\n",
    "plt.tight_layout()\n",
    "plt.savefig(\"mabs.png\", dpi=160)\n",
    "plt.show()"
   ]
  }
 ],
 "metadata": {
  "kaggle": {
   "accelerator": "nvidiaTeslaT4",
   "dataSources": [],
   "dockerImageVersionId": 31090,
   "isGpuEnabled": true,
   "isInternetEnabled": true,
   "language": "python",
   "sourceType": "notebook"
  },
  "kernelspec": {
   "display_name": "Python 3",
   "language": "python",
   "name": "python3"
  },
  "language_info": {
   "codemirror_mode": {
    "name": "ipython",
    "version": 3
   },
   "file_extension": ".py",
   "mimetype": "text/x-python",
   "name": "python",
   "nbconvert_exporter": "python",
   "pygments_lexer": "ipython3",
   "version": "3.11.13"
  }
 },
 "nbformat": 4,
 "nbformat_minor": 4
}
